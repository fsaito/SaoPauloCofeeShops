{
 "cells": [
  {
   "cell_type": "markdown",
   "metadata": {},
   "source": [
    "# Coursera Capstone Project"
   ]
  },
  {
   "cell_type": "markdown",
   "metadata": {},
   "source": [
    "## São Paulo Best place for a new Coffee Shop"
   ]
  },
  {
   "cell_type": "markdown",
   "metadata": {},
   "source": [
    "Is it possible to determine the best place to start a new Specialty Coffee Shop business?"
   ]
  },
  {
   "cell_type": "markdown",
   "metadata": {},
   "source": [
    "According to the Specialty Coffee Association of America (SCAA), coffee which scores 80 points or above on a 100-point scale is graded \"specialty.\""
   ]
  },
  {
   "cell_type": "markdown",
   "metadata": {},
   "source": [
    "Brazil is the top coffee producer nation and one of the top 15 consumer."
   ]
  },
  {
   "cell_type": "markdown",
   "metadata": {},
   "source": [
    "I´ll provide a list of some of the TOP Specialty Coffee Shops in São Paulo, based on Foursquare information I´ll plot this locations on a map.\n",
    "As Specialty Coffee usualy costs higher them regular coffee, using information of regions human development index (HDI) and per capita income, I´ll check if it´s possible to determine the better location for a new business."
   ]
  },
  {
   "cell_type": "code",
   "execution_count": 1,
   "metadata": {},
   "outputs": [],
   "source": [
    "import requests\n",
    "import lxml.html as lh\n",
    "import pandas as pd"
   ]
  },
  {
   "cell_type": "markdown",
   "metadata": {},
   "source": [
    "Importing list of Coffee Shops that work with specialty coffee"
   ]
  },
  {
   "cell_type": "code",
   "execution_count": 24,
   "metadata": {},
   "outputs": [
    {
     "data": {
      "text/html": [
       "<div>\n",
       "<style scoped>\n",
       "    .dataframe tbody tr th:only-of-type {\n",
       "        vertical-align: middle;\n",
       "    }\n",
       "\n",
       "    .dataframe tbody tr th {\n",
       "        vertical-align: top;\n",
       "    }\n",
       "\n",
       "    .dataframe thead th {\n",
       "        text-align: right;\n",
       "    }\n",
       "</style>\n",
       "<table border=\"1\" class=\"dataframe\">\n",
       "  <thead>\n",
       "    <tr style=\"text-align: right;\">\n",
       "      <th></th>\n",
       "      <th>Name</th>\n",
       "      <th>Address</th>\n",
       "      <th>Neighborhood</th>\n",
       "    </tr>\n",
       "  </thead>\n",
       "  <tbody>\n",
       "    <tr>\n",
       "      <th>0</th>\n",
       "      <td>COFFEE LAB</td>\n",
       "      <td>Rua Fradique Coutinho, 1340</td>\n",
       "      <td>Vila Madalena</td>\n",
       "    </tr>\n",
       "    <tr>\n",
       "      <th>1</th>\n",
       "      <td>UM COFFEE CO.</td>\n",
       "      <td>Rua Júlio Conceição, 553</td>\n",
       "      <td>Bom Retiro</td>\n",
       "    </tr>\n",
       "    <tr>\n",
       "      <th>2</th>\n",
       "      <td>UM COFFEE CO.</td>\n",
       "      <td>Rua Iaiá, 62</td>\n",
       "      <td>Itaim Bibi</td>\n",
       "    </tr>\n",
       "    <tr>\n",
       "      <th>3</th>\n",
       "      <td>POR UM PUNHADO DE DÓLARES</td>\n",
       "      <td>Rua Nestor Pestana, 115</td>\n",
       "      <td>Consolação</td>\n",
       "    </tr>\n",
       "    <tr>\n",
       "      <th>4</th>\n",
       "      <td>URBE CAFÉ</td>\n",
       "      <td>Rua Antônio Carlos, 404</td>\n",
       "      <td>Consolação</td>\n",
       "    </tr>\n",
       "  </tbody>\n",
       "</table>\n",
       "</div>"
      ],
      "text/plain": [
       "                        Name                      Address   Neighborhood\n",
       "0                 COFFEE LAB  Rua Fradique Coutinho, 1340  Vila Madalena\n",
       "1              UM COFFEE CO.     Rua Júlio Conceição, 553     Bom Retiro\n",
       "2              UM COFFEE CO.                 Rua Iaiá, 62     Itaim Bibi\n",
       "3  POR UM PUNHADO DE DÓLARES     Rua Nestor Pestana, 115      Consolação\n",
       "4                  URBE CAFÉ     Rua Antônio Carlos, 404      Consolação"
      ]
     },
     "execution_count": 24,
     "metadata": {},
     "output_type": "execute_result"
    }
   ],
   "source": [
    "df = pd.read_csv(\"cafeterias_especiais.csv\", delimiter=';')\n",
    "df.head()"
   ]
  },
  {
   "cell_type": "code",
   "execution_count": 23,
   "metadata": {},
   "outputs": [],
   "source": [
    "#df.set_index('Neighborhood', inplace=True)"
   ]
  },
  {
   "cell_type": "markdown",
   "metadata": {},
   "source": [
    "Importing human development index (HDI) list"
   ]
  },
  {
   "cell_type": "code",
   "execution_count": 16,
   "metadata": {},
   "outputs": [
    {
     "data": {
      "text/html": [
       "<div>\n",
       "<style scoped>\n",
       "    .dataframe tbody tr th:only-of-type {\n",
       "        vertical-align: middle;\n",
       "    }\n",
       "\n",
       "    .dataframe tbody tr th {\n",
       "        vertical-align: top;\n",
       "    }\n",
       "\n",
       "    .dataframe thead th {\n",
       "        text-align: right;\n",
       "    }\n",
       "</style>\n",
       "<table border=\"1\" class=\"dataframe\">\n",
       "  <thead>\n",
       "    <tr style=\"text-align: right;\">\n",
       "      <th></th>\n",
       "      <th>Posicao</th>\n",
       "      <th>Distrito</th>\n",
       "      <th>IDH</th>\n",
       "    </tr>\n",
       "  </thead>\n",
       "  <tbody>\n",
       "    <tr>\n",
       "      <th>0</th>\n",
       "      <td>1</td>\n",
       "      <td>Moema</td>\n",
       "      <td>0,981</td>\n",
       "    </tr>\n",
       "    <tr>\n",
       "      <th>1</th>\n",
       "      <td>2</td>\n",
       "      <td>Pinheiros</td>\n",
       "      <td>0,98</td>\n",
       "    </tr>\n",
       "    <tr>\n",
       "      <th>2</th>\n",
       "      <td>3</td>\n",
       "      <td>Perdizes</td>\n",
       "      <td>0,977</td>\n",
       "    </tr>\n",
       "    <tr>\n",
       "      <th>3</th>\n",
       "      <td>4</td>\n",
       "      <td>Jardim Paulista</td>\n",
       "      <td>0,975</td>\n",
       "    </tr>\n",
       "    <tr>\n",
       "      <th>4</th>\n",
       "      <td>5</td>\n",
       "      <td>Alto de Pinheiros</td>\n",
       "      <td>0,972</td>\n",
       "    </tr>\n",
       "  </tbody>\n",
       "</table>\n",
       "</div>"
      ],
      "text/plain": [
       "   Posicao           Distrito     IDH\n",
       "0        1              Moema   0,981\n",
       "1        2          Pinheiros    0,98\n",
       "2        3           Perdizes   0,977\n",
       "3        4    Jardim Paulista   0,975\n",
       "4        5  Alto de Pinheiros   0,972"
      ]
     },
     "execution_count": 16,
     "metadata": {},
     "output_type": "execute_result"
    }
   ],
   "source": [
    "idh = pd.read_csv(\"IDH.csv\", delimiter=';')\n",
    "idh.head()"
   ]
  },
  {
   "cell_type": "code",
   "execution_count": 17,
   "metadata": {},
   "outputs": [],
   "source": [
    "idh.drop('Posicao', axis=1, inplace=True)"
   ]
  },
  {
   "cell_type": "code",
   "execution_count": 18,
   "metadata": {},
   "outputs": [],
   "source": [
    "idh.rename(index=str, columns={'Distrito ' : 'Distrito'}, inplace=True)"
   ]
  },
  {
   "cell_type": "code",
   "execution_count": 19,
   "metadata": {},
   "outputs": [],
   "source": [
    "idh['Distrito'] = idh['Distrito'].str.strip()"
   ]
  },
  {
   "cell_type": "code",
   "execution_count": 20,
   "metadata": {},
   "outputs": [],
   "source": [
    "#idh.set_index('Distrito', inplace=True)"
   ]
  },
  {
   "cell_type": "code",
   "execution_count": 21,
   "metadata": {},
   "outputs": [
    {
     "data": {
      "text/plain": [
       "Index(['Distrito', 'IDH'], dtype='object')"
      ]
     },
     "execution_count": 21,
     "metadata": {},
     "output_type": "execute_result"
    }
   ],
   "source": [
    "idh.columns"
   ]
  },
  {
   "cell_type": "code",
   "execution_count": 22,
   "metadata": {},
   "outputs": [
    {
     "data": {
      "text/html": [
       "<div>\n",
       "<style scoped>\n",
       "    .dataframe tbody tr th:only-of-type {\n",
       "        vertical-align: middle;\n",
       "    }\n",
       "\n",
       "    .dataframe tbody tr th {\n",
       "        vertical-align: top;\n",
       "    }\n",
       "\n",
       "    .dataframe thead th {\n",
       "        text-align: right;\n",
       "    }\n",
       "</style>\n",
       "<table border=\"1\" class=\"dataframe\">\n",
       "  <thead>\n",
       "    <tr style=\"text-align: right;\">\n",
       "      <th></th>\n",
       "      <th>Distrito</th>\n",
       "      <th>IDH</th>\n",
       "    </tr>\n",
       "  </thead>\n",
       "  <tbody>\n",
       "    <tr>\n",
       "      <th>0</th>\n",
       "      <td>Moema</td>\n",
       "      <td>0,981</td>\n",
       "    </tr>\n",
       "    <tr>\n",
       "      <th>1</th>\n",
       "      <td>Pinheiros</td>\n",
       "      <td>0,98</td>\n",
       "    </tr>\n",
       "    <tr>\n",
       "      <th>2</th>\n",
       "      <td>Perdizes</td>\n",
       "      <td>0,977</td>\n",
       "    </tr>\n",
       "    <tr>\n",
       "      <th>3</th>\n",
       "      <td>Jardim Paulista</td>\n",
       "      <td>0,975</td>\n",
       "    </tr>\n",
       "    <tr>\n",
       "      <th>4</th>\n",
       "      <td>Alto de Pinheiros</td>\n",
       "      <td>0,972</td>\n",
       "    </tr>\n",
       "  </tbody>\n",
       "</table>\n",
       "</div>"
      ],
      "text/plain": [
       "            Distrito    IDH\n",
       "0              Moema  0,981\n",
       "1          Pinheiros   0,98\n",
       "2           Perdizes  0,977\n",
       "3    Jardim Paulista  0,975\n",
       "4  Alto de Pinheiros  0,972"
      ]
     },
     "execution_count": 22,
     "metadata": {},
     "output_type": "execute_result"
    }
   ],
   "source": [
    "idh.head()"
   ]
  },
  {
   "cell_type": "markdown",
   "metadata": {},
   "source": [
    "Putting all together."
   ]
  },
  {
   "cell_type": "code",
   "execution_count": 35,
   "metadata": {},
   "outputs": [],
   "source": [
    "final_result= df.set_index('Neighborhood').join(idh.set_index('Distrito'))\n",
    "final_result.reset_index(inplace=True)"
   ]
  },
  {
   "cell_type": "code",
   "execution_count": 41,
   "metadata": {},
   "outputs": [],
   "source": [
    "final_result.rename(index=str, columns={'index':'Bairro'}, inplace=True)"
   ]
  },
  {
   "cell_type": "code",
   "execution_count": 42,
   "metadata": {},
   "outputs": [],
   "source": [
    "final_result = final_result.append({'Bairro' : 'Vila Madalena', 'Name' : 'COFFEE LAB' , 'Address' : 'Rua Fradique Coutinho, 1340', 'IDH' : '0,960'} , ignore_index=True)"
   ]
  },
  {
   "cell_type": "code",
   "execution_count": 43,
   "metadata": {},
   "outputs": [],
   "source": [
    "final_result = final_result.append({'Bairro' : 'Vila Madalena', 'Name' : 'COFFEE LAB' , 'Address' : 'Rua Wisard, 171', 'IDH' : '0,960'}, ignore_index=True)"
   ]
  },
  {
   "cell_type": "code",
   "execution_count": 44,
   "metadata": {},
   "outputs": [
    {
     "data": {
      "text/html": [
       "<div>\n",
       "<style scoped>\n",
       "    .dataframe tbody tr th:only-of-type {\n",
       "        vertical-align: middle;\n",
       "    }\n",
       "\n",
       "    .dataframe tbody tr th {\n",
       "        vertical-align: top;\n",
       "    }\n",
       "\n",
       "    .dataframe thead th {\n",
       "        text-align: right;\n",
       "    }\n",
       "</style>\n",
       "<table border=\"1\" class=\"dataframe\">\n",
       "  <thead>\n",
       "    <tr style=\"text-align: right;\">\n",
       "      <th></th>\n",
       "      <th>Bairro</th>\n",
       "      <th>Name</th>\n",
       "      <th>Address</th>\n",
       "      <th>IDH</th>\n",
       "    </tr>\n",
       "  </thead>\n",
       "  <tbody>\n",
       "    <tr>\n",
       "      <th>0</th>\n",
       "      <td>Bom Retiro</td>\n",
       "      <td>UM COFFEE CO.</td>\n",
       "      <td>Rua Júlio Conceição, 553</td>\n",
       "      <td>0,847</td>\n",
       "    </tr>\n",
       "    <tr>\n",
       "      <th>1</th>\n",
       "      <td>Consolação</td>\n",
       "      <td>POR UM PUNHADO DE DÓLARES</td>\n",
       "      <td>Rua Nestor Pestana, 115</td>\n",
       "      <td>0,965</td>\n",
       "    </tr>\n",
       "    <tr>\n",
       "      <th>2</th>\n",
       "      <td>Consolação</td>\n",
       "      <td>URBE CAFÉ</td>\n",
       "      <td>Rua Antônio Carlos, 404</td>\n",
       "      <td>0,965</td>\n",
       "    </tr>\n",
       "    <tr>\n",
       "      <th>3</th>\n",
       "      <td>Itaim Bibi</td>\n",
       "      <td>UM COFFEE CO.</td>\n",
       "      <td>Rua Iaiá, 62</td>\n",
       "      <td>0,971</td>\n",
       "    </tr>\n",
       "    <tr>\n",
       "      <th>4</th>\n",
       "      <td>Moema</td>\n",
       "      <td>FREAK CAFÉ</td>\n",
       "      <td>Avenida Jurema, 359</td>\n",
       "      <td>0,981</td>\n",
       "    </tr>\n",
       "    <tr>\n",
       "      <th>5</th>\n",
       "      <td>Pinheiros</td>\n",
       "      <td>SOFÁ CAFÉ</td>\n",
       "      <td>Rua Artur de Azevedo, 514</td>\n",
       "      <td>0,98</td>\n",
       "    </tr>\n",
       "    <tr>\n",
       "      <th>6</th>\n",
       "      <td>Pinheiros</td>\n",
       "      <td>SOFÁ CAFÉ</td>\n",
       "      <td>Rua Bianchi Bertoldi, 130</td>\n",
       "      <td>0,98</td>\n",
       "    </tr>\n",
       "    <tr>\n",
       "      <th>7</th>\n",
       "      <td>Pinheiros</td>\n",
       "      <td>KING OF THE FORK</td>\n",
       "      <td>Rua Artur de Azevedo, 1317</td>\n",
       "      <td>0,98</td>\n",
       "    </tr>\n",
       "    <tr>\n",
       "      <th>8</th>\n",
       "      <td>Pinheiros</td>\n",
       "      <td>TORRA CLARA</td>\n",
       "      <td>Rua Oscar Freire, 2.286</td>\n",
       "      <td>0,98</td>\n",
       "    </tr>\n",
       "    <tr>\n",
       "      <th>9</th>\n",
       "      <td>Vila Madalena</td>\n",
       "      <td>COFFEE LAB</td>\n",
       "      <td>Rua Fradique Coutinho, 1340</td>\n",
       "      <td>NaN</td>\n",
       "    </tr>\n",
       "    <tr>\n",
       "      <th>10</th>\n",
       "      <td>Vila Madalena</td>\n",
       "      <td>CUPPING CAFÉ</td>\n",
       "      <td>Rua Wisard, 171</td>\n",
       "      <td>NaN</td>\n",
       "    </tr>\n",
       "    <tr>\n",
       "      <th>11</th>\n",
       "      <td>Vila Madalena</td>\n",
       "      <td>COFFEE LAB</td>\n",
       "      <td>Rua Fradique Coutinho, 1340</td>\n",
       "      <td>0,960</td>\n",
       "    </tr>\n",
       "    <tr>\n",
       "      <th>12</th>\n",
       "      <td>Vila Madalena</td>\n",
       "      <td>COFFEE LAB</td>\n",
       "      <td>Rua Wisard, 171</td>\n",
       "      <td>0,960</td>\n",
       "    </tr>\n",
       "  </tbody>\n",
       "</table>\n",
       "</div>"
      ],
      "text/plain": [
       "           Bairro                       Name                      Address  \\\n",
       "0      Bom Retiro              UM COFFEE CO.     Rua Júlio Conceição, 553   \n",
       "1      Consolação  POR UM PUNHADO DE DÓLARES     Rua Nestor Pestana, 115    \n",
       "2      Consolação                  URBE CAFÉ     Rua Antônio Carlos, 404    \n",
       "3      Itaim Bibi              UM COFFEE CO.                 Rua Iaiá, 62   \n",
       "4           Moema                 FREAK CAFÉ          Avenida Jurema, 359   \n",
       "5       Pinheiros                  SOFÁ CAFÉ    Rua Artur de Azevedo, 514   \n",
       "6       Pinheiros                  SOFÁ CAFÉ    Rua Bianchi Bertoldi, 130   \n",
       "7       Pinheiros           KING OF THE FORK   Rua Artur de Azevedo, 1317   \n",
       "8       Pinheiros                TORRA CLARA      Rua Oscar Freire, 2.286   \n",
       "9   Vila Madalena                 COFFEE LAB  Rua Fradique Coutinho, 1340   \n",
       "10  Vila Madalena               CUPPING CAFÉ              Rua Wisard, 171   \n",
       "11  Vila Madalena                 COFFEE LAB  Rua Fradique Coutinho, 1340   \n",
       "12  Vila Madalena                 COFFEE LAB              Rua Wisard, 171   \n",
       "\n",
       "      IDH  \n",
       "0   0,847  \n",
       "1   0,965  \n",
       "2   0,965  \n",
       "3   0,971  \n",
       "4   0,981  \n",
       "5    0,98  \n",
       "6    0,98  \n",
       "7    0,98  \n",
       "8    0,98  \n",
       "9     NaN  \n",
       "10    NaN  \n",
       "11  0,960  \n",
       "12  0,960  "
      ]
     },
     "execution_count": 44,
     "metadata": {},
     "output_type": "execute_result"
    }
   ],
   "source": [
    "final_result"
   ]
  },
  {
   "cell_type": "code",
   "execution_count": 45,
   "metadata": {},
   "outputs": [],
   "source": [
    "final_result.dropna(axis=0, inplace=True)"
   ]
  },
  {
   "cell_type": "code",
   "execution_count": 51,
   "metadata": {},
   "outputs": [],
   "source": [
    "final_result.reset_index(inplace=True)"
   ]
  },
  {
   "cell_type": "code",
   "execution_count": 53,
   "metadata": {},
   "outputs": [],
   "source": [
    "final_result.drop('index', axis=1, inplace=True)"
   ]
  },
  {
   "cell_type": "code",
   "execution_count": 54,
   "metadata": {},
   "outputs": [
    {
     "data": {
      "text/html": [
       "<div>\n",
       "<style scoped>\n",
       "    .dataframe tbody tr th:only-of-type {\n",
       "        vertical-align: middle;\n",
       "    }\n",
       "\n",
       "    .dataframe tbody tr th {\n",
       "        vertical-align: top;\n",
       "    }\n",
       "\n",
       "    .dataframe thead th {\n",
       "        text-align: right;\n",
       "    }\n",
       "</style>\n",
       "<table border=\"1\" class=\"dataframe\">\n",
       "  <thead>\n",
       "    <tr style=\"text-align: right;\">\n",
       "      <th></th>\n",
       "      <th>Bairro</th>\n",
       "      <th>Name</th>\n",
       "      <th>Address</th>\n",
       "      <th>IDH</th>\n",
       "    </tr>\n",
       "  </thead>\n",
       "  <tbody>\n",
       "    <tr>\n",
       "      <th>0</th>\n",
       "      <td>Bom Retiro</td>\n",
       "      <td>UM COFFEE CO.</td>\n",
       "      <td>Rua Júlio Conceição, 553</td>\n",
       "      <td>0,847</td>\n",
       "    </tr>\n",
       "    <tr>\n",
       "      <th>1</th>\n",
       "      <td>Consolação</td>\n",
       "      <td>POR UM PUNHADO DE DÓLARES</td>\n",
       "      <td>Rua Nestor Pestana, 115</td>\n",
       "      <td>0,965</td>\n",
       "    </tr>\n",
       "    <tr>\n",
       "      <th>2</th>\n",
       "      <td>Consolação</td>\n",
       "      <td>URBE CAFÉ</td>\n",
       "      <td>Rua Antônio Carlos, 404</td>\n",
       "      <td>0,965</td>\n",
       "    </tr>\n",
       "    <tr>\n",
       "      <th>3</th>\n",
       "      <td>Itaim Bibi</td>\n",
       "      <td>UM COFFEE CO.</td>\n",
       "      <td>Rua Iaiá, 62</td>\n",
       "      <td>0,971</td>\n",
       "    </tr>\n",
       "    <tr>\n",
       "      <th>4</th>\n",
       "      <td>Moema</td>\n",
       "      <td>FREAK CAFÉ</td>\n",
       "      <td>Avenida Jurema, 359</td>\n",
       "      <td>0,981</td>\n",
       "    </tr>\n",
       "    <tr>\n",
       "      <th>5</th>\n",
       "      <td>Pinheiros</td>\n",
       "      <td>SOFÁ CAFÉ</td>\n",
       "      <td>Rua Artur de Azevedo, 514</td>\n",
       "      <td>0,98</td>\n",
       "    </tr>\n",
       "    <tr>\n",
       "      <th>6</th>\n",
       "      <td>Pinheiros</td>\n",
       "      <td>SOFÁ CAFÉ</td>\n",
       "      <td>Rua Bianchi Bertoldi, 130</td>\n",
       "      <td>0,98</td>\n",
       "    </tr>\n",
       "    <tr>\n",
       "      <th>7</th>\n",
       "      <td>Pinheiros</td>\n",
       "      <td>KING OF THE FORK</td>\n",
       "      <td>Rua Artur de Azevedo, 1317</td>\n",
       "      <td>0,98</td>\n",
       "    </tr>\n",
       "    <tr>\n",
       "      <th>8</th>\n",
       "      <td>Pinheiros</td>\n",
       "      <td>TORRA CLARA</td>\n",
       "      <td>Rua Oscar Freire, 2.286</td>\n",
       "      <td>0,98</td>\n",
       "    </tr>\n",
       "    <tr>\n",
       "      <th>9</th>\n",
       "      <td>Vila Madalena</td>\n",
       "      <td>COFFEE LAB</td>\n",
       "      <td>Rua Fradique Coutinho, 1340</td>\n",
       "      <td>0,960</td>\n",
       "    </tr>\n",
       "    <tr>\n",
       "      <th>10</th>\n",
       "      <td>Vila Madalena</td>\n",
       "      <td>COFFEE LAB</td>\n",
       "      <td>Rua Wisard, 171</td>\n",
       "      <td>0,960</td>\n",
       "    </tr>\n",
       "  </tbody>\n",
       "</table>\n",
       "</div>"
      ],
      "text/plain": [
       "           Bairro                       Name                      Address  \\\n",
       "0      Bom Retiro              UM COFFEE CO.     Rua Júlio Conceição, 553   \n",
       "1      Consolação  POR UM PUNHADO DE DÓLARES     Rua Nestor Pestana, 115    \n",
       "2      Consolação                  URBE CAFÉ     Rua Antônio Carlos, 404    \n",
       "3      Itaim Bibi              UM COFFEE CO.                 Rua Iaiá, 62   \n",
       "4           Moema                 FREAK CAFÉ          Avenida Jurema, 359   \n",
       "5       Pinheiros                  SOFÁ CAFÉ    Rua Artur de Azevedo, 514   \n",
       "6       Pinheiros                  SOFÁ CAFÉ    Rua Bianchi Bertoldi, 130   \n",
       "7       Pinheiros           KING OF THE FORK   Rua Artur de Azevedo, 1317   \n",
       "8       Pinheiros                TORRA CLARA      Rua Oscar Freire, 2.286   \n",
       "9   Vila Madalena                 COFFEE LAB  Rua Fradique Coutinho, 1340   \n",
       "10  Vila Madalena                 COFFEE LAB              Rua Wisard, 171   \n",
       "\n",
       "      IDH  \n",
       "0   0,847  \n",
       "1   0,965  \n",
       "2   0,965  \n",
       "3   0,971  \n",
       "4   0,981  \n",
       "5    0,98  \n",
       "6    0,98  \n",
       "7    0,98  \n",
       "8    0,98  \n",
       "9   0,960  \n",
       "10  0,960  "
      ]
     },
     "execution_count": 54,
     "metadata": {},
     "output_type": "execute_result"
    }
   ],
   "source": [
    "final_result"
   ]
  },
  {
   "cell_type": "markdown",
   "metadata": {},
   "source": [
    "Now let´s donwload the lat and long of our Specialty Coffee Shops"
   ]
  },
  {
   "cell_type": "code",
   "execution_count": 55,
   "metadata": {},
   "outputs": [
    {
     "data": {
      "text/html": [
       "<div>\n",
       "<style scoped>\n",
       "    .dataframe tbody tr th:only-of-type {\n",
       "        vertical-align: middle;\n",
       "    }\n",
       "\n",
       "    .dataframe tbody tr th {\n",
       "        vertical-align: top;\n",
       "    }\n",
       "\n",
       "    .dataframe thead th {\n",
       "        text-align: right;\n",
       "    }\n",
       "</style>\n",
       "<table border=\"1\" class=\"dataframe\">\n",
       "  <thead>\n",
       "    <tr style=\"text-align: right;\">\n",
       "      <th></th>\n",
       "      <th>Lat</th>\n",
       "      <th>Long</th>\n",
       "    </tr>\n",
       "  </thead>\n",
       "  <tbody>\n",
       "  </tbody>\n",
       "</table>\n",
       "</div>"
      ],
      "text/plain": [
       "Empty DataFrame\n",
       "Columns: [Lat, Long]\n",
       "Index: []"
      ]
     },
     "execution_count": 55,
     "metadata": {},
     "output_type": "execute_result"
    }
   ],
   "source": [
    "latlong = pd.DataFrame({'Lat':[], 'Long':[]})\n",
    "latlong"
   ]
  },
  {
   "cell_type": "markdown",
   "metadata": {},
   "source": [
    "Creating Lat Long of Coffee Shops list"
   ]
  },
  {
   "cell_type": "code",
   "execution_count": 56,
   "metadata": {},
   "outputs": [
    {
     "data": {
      "text/html": [
       "<div>\n",
       "<style scoped>\n",
       "    .dataframe tbody tr th:only-of-type {\n",
       "        vertical-align: middle;\n",
       "    }\n",
       "\n",
       "    .dataframe tbody tr th {\n",
       "        vertical-align: top;\n",
       "    }\n",
       "\n",
       "    .dataframe thead th {\n",
       "        text-align: right;\n",
       "    }\n",
       "</style>\n",
       "<table border=\"1\" class=\"dataframe\">\n",
       "  <thead>\n",
       "    <tr style=\"text-align: right;\">\n",
       "      <th></th>\n",
       "      <th>Lat</th>\n",
       "      <th>Long</th>\n",
       "    </tr>\n",
       "  </thead>\n",
       "  <tbody>\n",
       "    <tr>\n",
       "      <th>0</th>\n",
       "      <td>-23.527525</td>\n",
       "      <td>-46.641472</td>\n",
       "    </tr>\n",
       "    <tr>\n",
       "      <th>1</th>\n",
       "      <td>-23.548556</td>\n",
       "      <td>-46.645346</td>\n",
       "    </tr>\n",
       "    <tr>\n",
       "      <th>2</th>\n",
       "      <td>-22.877471</td>\n",
       "      <td>-43.580906</td>\n",
       "    </tr>\n",
       "    <tr>\n",
       "      <th>3</th>\n",
       "      <td>-23.586935</td>\n",
       "      <td>-46.679292</td>\n",
       "    </tr>\n",
       "    <tr>\n",
       "      <th>4</th>\n",
       "      <td>-23.611181</td>\n",
       "      <td>-46.655530</td>\n",
       "    </tr>\n",
       "    <tr>\n",
       "      <th>5</th>\n",
       "      <td>-23.559819</td>\n",
       "      <td>-46.677229</td>\n",
       "    </tr>\n",
       "    <tr>\n",
       "      <th>6</th>\n",
       "      <td>-23.568654</td>\n",
       "      <td>-46.690946</td>\n",
       "    </tr>\n",
       "    <tr>\n",
       "      <th>7</th>\n",
       "      <td>-23.563975</td>\n",
       "      <td>-46.683830</td>\n",
       "    </tr>\n",
       "    <tr>\n",
       "      <th>8</th>\n",
       "      <td>-23.567231</td>\n",
       "      <td>-46.664316</td>\n",
       "    </tr>\n",
       "    <tr>\n",
       "      <th>9</th>\n",
       "      <td>-23.556041</td>\n",
       "      <td>-46.691383</td>\n",
       "    </tr>\n",
       "    <tr>\n",
       "      <th>10</th>\n",
       "      <td>-23.555726</td>\n",
       "      <td>-46.690367</td>\n",
       "    </tr>\n",
       "  </tbody>\n",
       "</table>\n",
       "</div>"
      ],
      "text/plain": [
       "          Lat       Long\n",
       "0  -23.527525 -46.641472\n",
       "1  -23.548556 -46.645346\n",
       "2  -22.877471 -43.580906\n",
       "3  -23.586935 -46.679292\n",
       "4  -23.611181 -46.655530\n",
       "5  -23.559819 -46.677229\n",
       "6  -23.568654 -46.690946\n",
       "7  -23.563975 -46.683830\n",
       "8  -23.567231 -46.664316\n",
       "9  -23.556041 -46.691383\n",
       "10 -23.555726 -46.690367"
      ]
     },
     "execution_count": 56,
     "metadata": {},
     "output_type": "execute_result"
    }
   ],
   "source": [
    "from geopy.geocoders import Nominatim # convert an address into latitude and longitude values\n",
    "\n",
    "for i in final_result.Address:\n",
    "    address = i\n",
    "    geolocator = Nominatim(user_agent=\"sp_explorer\")\n",
    "    location = geolocator.geocode(address)\n",
    "    latitude = location.latitude\n",
    "    longitude = location.longitude\n",
    "    latlong = latlong.append({'Lat': latitude, 'Long': longitude}, ignore_index=True)\n",
    "    #print('The geograpical coordinate of {} in Sao Paulo are {}, {}.'.format((i), latitude, longitude))\n",
    "\n",
    "latlong"
   ]
  },
  {
   "cell_type": "markdown",
   "metadata": {},
   "source": [
    "Putting all together"
   ]
  },
  {
   "cell_type": "code",
   "execution_count": 57,
   "metadata": {},
   "outputs": [
    {
     "data": {
      "text/html": [
       "<div>\n",
       "<style scoped>\n",
       "    .dataframe tbody tr th:only-of-type {\n",
       "        vertical-align: middle;\n",
       "    }\n",
       "\n",
       "    .dataframe tbody tr th {\n",
       "        vertical-align: top;\n",
       "    }\n",
       "\n",
       "    .dataframe thead th {\n",
       "        text-align: right;\n",
       "    }\n",
       "</style>\n",
       "<table border=\"1\" class=\"dataframe\">\n",
       "  <thead>\n",
       "    <tr style=\"text-align: right;\">\n",
       "      <th></th>\n",
       "      <th>Bairro</th>\n",
       "      <th>Name</th>\n",
       "      <th>Address</th>\n",
       "      <th>IDH</th>\n",
       "      <th>Lat</th>\n",
       "      <th>Long</th>\n",
       "    </tr>\n",
       "  </thead>\n",
       "  <tbody>\n",
       "    <tr>\n",
       "      <th>0</th>\n",
       "      <td>Bom Retiro</td>\n",
       "      <td>UM COFFEE CO.</td>\n",
       "      <td>Rua Júlio Conceição, 553</td>\n",
       "      <td>0,847</td>\n",
       "      <td>-23.527525</td>\n",
       "      <td>-46.641472</td>\n",
       "    </tr>\n",
       "    <tr>\n",
       "      <th>1</th>\n",
       "      <td>Consolação</td>\n",
       "      <td>POR UM PUNHADO DE DÓLARES</td>\n",
       "      <td>Rua Nestor Pestana, 115</td>\n",
       "      <td>0,965</td>\n",
       "      <td>-23.548556</td>\n",
       "      <td>-46.645346</td>\n",
       "    </tr>\n",
       "    <tr>\n",
       "      <th>2</th>\n",
       "      <td>Consolação</td>\n",
       "      <td>URBE CAFÉ</td>\n",
       "      <td>Rua Antônio Carlos, 404</td>\n",
       "      <td>0,965</td>\n",
       "      <td>-22.877471</td>\n",
       "      <td>-43.580906</td>\n",
       "    </tr>\n",
       "    <tr>\n",
       "      <th>3</th>\n",
       "      <td>Itaim Bibi</td>\n",
       "      <td>UM COFFEE CO.</td>\n",
       "      <td>Rua Iaiá, 62</td>\n",
       "      <td>0,971</td>\n",
       "      <td>-23.586935</td>\n",
       "      <td>-46.679292</td>\n",
       "    </tr>\n",
       "    <tr>\n",
       "      <th>4</th>\n",
       "      <td>Moema</td>\n",
       "      <td>FREAK CAFÉ</td>\n",
       "      <td>Avenida Jurema, 359</td>\n",
       "      <td>0,981</td>\n",
       "      <td>-23.611181</td>\n",
       "      <td>-46.655530</td>\n",
       "    </tr>\n",
       "    <tr>\n",
       "      <th>5</th>\n",
       "      <td>Pinheiros</td>\n",
       "      <td>SOFÁ CAFÉ</td>\n",
       "      <td>Rua Artur de Azevedo, 514</td>\n",
       "      <td>0,98</td>\n",
       "      <td>-23.559819</td>\n",
       "      <td>-46.677229</td>\n",
       "    </tr>\n",
       "    <tr>\n",
       "      <th>6</th>\n",
       "      <td>Pinheiros</td>\n",
       "      <td>SOFÁ CAFÉ</td>\n",
       "      <td>Rua Bianchi Bertoldi, 130</td>\n",
       "      <td>0,98</td>\n",
       "      <td>-23.568654</td>\n",
       "      <td>-46.690946</td>\n",
       "    </tr>\n",
       "    <tr>\n",
       "      <th>7</th>\n",
       "      <td>Pinheiros</td>\n",
       "      <td>KING OF THE FORK</td>\n",
       "      <td>Rua Artur de Azevedo, 1317</td>\n",
       "      <td>0,98</td>\n",
       "      <td>-23.563975</td>\n",
       "      <td>-46.683830</td>\n",
       "    </tr>\n",
       "    <tr>\n",
       "      <th>8</th>\n",
       "      <td>Pinheiros</td>\n",
       "      <td>TORRA CLARA</td>\n",
       "      <td>Rua Oscar Freire, 2.286</td>\n",
       "      <td>0,98</td>\n",
       "      <td>-23.567231</td>\n",
       "      <td>-46.664316</td>\n",
       "    </tr>\n",
       "    <tr>\n",
       "      <th>9</th>\n",
       "      <td>Vila Madalena</td>\n",
       "      <td>COFFEE LAB</td>\n",
       "      <td>Rua Fradique Coutinho, 1340</td>\n",
       "      <td>0,960</td>\n",
       "      <td>-23.556041</td>\n",
       "      <td>-46.691383</td>\n",
       "    </tr>\n",
       "    <tr>\n",
       "      <th>10</th>\n",
       "      <td>Vila Madalena</td>\n",
       "      <td>COFFEE LAB</td>\n",
       "      <td>Rua Wisard, 171</td>\n",
       "      <td>0,960</td>\n",
       "      <td>-23.555726</td>\n",
       "      <td>-46.690367</td>\n",
       "    </tr>\n",
       "  </tbody>\n",
       "</table>\n",
       "</div>"
      ],
      "text/plain": [
       "           Bairro                       Name                      Address  \\\n",
       "0      Bom Retiro              UM COFFEE CO.     Rua Júlio Conceição, 553   \n",
       "1      Consolação  POR UM PUNHADO DE DÓLARES     Rua Nestor Pestana, 115    \n",
       "2      Consolação                  URBE CAFÉ     Rua Antônio Carlos, 404    \n",
       "3      Itaim Bibi              UM COFFEE CO.                 Rua Iaiá, 62   \n",
       "4           Moema                 FREAK CAFÉ          Avenida Jurema, 359   \n",
       "5       Pinheiros                  SOFÁ CAFÉ    Rua Artur de Azevedo, 514   \n",
       "6       Pinheiros                  SOFÁ CAFÉ    Rua Bianchi Bertoldi, 130   \n",
       "7       Pinheiros           KING OF THE FORK   Rua Artur de Azevedo, 1317   \n",
       "8       Pinheiros                TORRA CLARA      Rua Oscar Freire, 2.286   \n",
       "9   Vila Madalena                 COFFEE LAB  Rua Fradique Coutinho, 1340   \n",
       "10  Vila Madalena                 COFFEE LAB              Rua Wisard, 171   \n",
       "\n",
       "      IDH        Lat       Long  \n",
       "0   0,847 -23.527525 -46.641472  \n",
       "1   0,965 -23.548556 -46.645346  \n",
       "2   0,965 -22.877471 -43.580906  \n",
       "3   0,971 -23.586935 -46.679292  \n",
       "4   0,981 -23.611181 -46.655530  \n",
       "5    0,98 -23.559819 -46.677229  \n",
       "6    0,98 -23.568654 -46.690946  \n",
       "7    0,98 -23.563975 -46.683830  \n",
       "8    0,98 -23.567231 -46.664316  \n",
       "9   0,960 -23.556041 -46.691383  \n",
       "10  0,960 -23.555726 -46.690367  "
      ]
     },
     "execution_count": 57,
     "metadata": {},
     "output_type": "execute_result"
    }
   ],
   "source": [
    "result = pd.concat([final_result, latlong], axis=1)\n",
    "result"
   ]
  },
  {
   "cell_type": "markdown",
   "metadata": {},
   "source": [
    "Now let´s download out map and start to configure Foursquare API"
   ]
  },
  {
   "cell_type": "code",
   "execution_count": null,
   "metadata": {},
   "outputs": [],
   "source": [
    "!conda install -c conda-forge folium=0.5.0 --yes\n",
    "\n",
    "import folium # map rendering library"
   ]
  },
  {
   "cell_type": "code",
   "execution_count": null,
   "metadata": {},
   "outputs": [],
   "source": [
    "# create map of SaoPaulo using latitude and longitude values\n",
    "map_sp = folium.Map(location=[latitude, longitude], zoom_start=14)\n",
    "\n",
    "map_sp"
   ]
  },
  {
   "cell_type": "markdown",
   "metadata": {},
   "source": [
    "#### Define Foursquare Credentials and Version"
   ]
  },
  {
   "cell_type": "code",
   "execution_count": null,
   "metadata": {},
   "outputs": [],
   "source": [
    "CLIENT_ID = 'LBSKSHMKF53O1YGE4SQLCOTYBZU4ZKN4V11KJI1G5WEBN3KR' # your Foursquare ID\n",
    "CLIENT_SECRET = '0ERKFMXE3KMZBJS3VOQA20H5AUWW4JGKVRU1GE0130ZGABCM' # your Foursquare Secret\n",
    "VERSION = '20180605' # Foursquare API version\n",
    "\n",
    "print('Your credentails:')\n",
    "print('CLIENT_ID: ' + CLIENT_ID)\n",
    "print('CLIENT_SECRET:' + CLIENT_SECRET)"
   ]
  },
  {
   "cell_type": "markdown",
   "metadata": {},
   "source": [
    "Search for Venues"
   ]
  },
  {
   "cell_type": "code",
   "execution_count": null,
   "metadata": {},
   "outputs": [],
   "source": [
    "limit = 10 # limit of number of venues returned by Foursquare API\n",
    "radius = 250 # define radius\n",
    "#categoryId = '4bf58dd8d48988d1e0931735' #Coffee Shop Category ID\n",
    "llAcc = 100\n",
    "ll = -23.556041,-46.691383\n",
    "query = 'Coffee Lab'\n",
    "# create URL\n",
    "url = 'https://api.foursquare.com/v2/venues/search?&client_id={}&client_secret={}&v={}&ll={},{}&radius={}&query={}&limit={}'.format(\n",
    "    CLIENT_ID, \n",
    "    CLIENT_SECRET, \n",
    "    VERSION, \n",
    "    latitude, \n",
    "    longitude, \n",
    "    radius, \n",
    "#    categoryId,\n",
    "    query,\n",
    "    limit)\n",
    "url # display URL"
   ]
  },
  {
   "cell_type": "code",
   "execution_count": null,
   "metadata": {},
   "outputs": [],
   "source": [
    "results = requests.get(url).json()\n",
    "results"
   ]
  },
  {
   "cell_type": "code",
   "execution_count": null,
   "metadata": {},
   "outputs": [],
   "source": [
    "# function that extracts the category of the venue\n",
    "def get_category_type(row):\n",
    "    try:\n",
    "        categories_list = row['categories']\n",
    "    except:\n",
    "        categories_list = row['venue.categories']\n",
    "        \n",
    "    if len(categories_list) == 0:\n",
    "        return None\n",
    "    else:\n",
    "        return categories_list[0]['name']"
   ]
  },
  {
   "cell_type": "code",
   "execution_count": null,
   "metadata": {},
   "outputs": [],
   "source": [
    "from pandas.io.json import json_normalize # tranform JSON file into a pandas dataframe\n",
    "\n",
    "venues = results['response']['groups'][0]['items']\n",
    "    \n",
    "nearby_venues = json_normalize(venues) # flatten JSON\n",
    "\n",
    "# filter columns\n",
    "filtered_columns = ['venue.name', 'venue.categories', 'venue.location.lat', 'venue.location.lng']\n",
    "nearby_venues =nearby_venues.loc[:, filtered_columns]\n",
    "\n",
    "# filter the category for each row\n",
    "nearby_venues['venue.categories'] = nearby_venues.apply(get_category_type, axis=1)\n",
    "\n",
    "# clean columns\n",
    "nearby_venues.columns = [col.split(\".\")[-1] for col in nearby_venues.columns]\n",
    "\n",
    "nearby_venues.head()"
   ]
  },
  {
   "cell_type": "code",
   "execution_count": null,
   "metadata": {},
   "outputs": [],
   "source": [
    "print('{} venues were returned by Foursquare.'.format(nearby_venues.shape[0]))"
   ]
  },
  {
   "cell_type": "code",
   "execution_count": null,
   "metadata": {},
   "outputs": [],
   "source": []
  },
  {
   "cell_type": "code",
   "execution_count": null,
   "metadata": {},
   "outputs": [],
   "source": []
  },
  {
   "cell_type": "code",
   "execution_count": null,
   "metadata": {},
   "outputs": [],
   "source": []
  },
  {
   "cell_type": "code",
   "execution_count": null,
   "metadata": {},
   "outputs": [],
   "source": []
  },
  {
   "cell_type": "code",
   "execution_count": null,
   "metadata": {},
   "outputs": [],
   "source": []
  }
 ],
 "metadata": {
  "kernelspec": {
   "display_name": "Python 3",
   "language": "python",
   "name": "python3"
  },
  "language_info": {
   "codemirror_mode": {
    "name": "ipython",
    "version": 3
   },
   "file_extension": ".py",
   "mimetype": "text/x-python",
   "name": "python",
   "nbconvert_exporter": "python",
   "pygments_lexer": "ipython3",
   "version": "3.6.8"
  }
 },
 "nbformat": 4,
 "nbformat_minor": 2
}
